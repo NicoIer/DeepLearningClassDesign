{
 "cells": [
  {
   "cell_type": "code",
   "execution_count": 99,
   "metadata": {
    "pycharm": {
     "name": "#%%\n"
    }
   },
   "outputs": [],
   "source": [
    "from typing import Tuple, List\n",
    "\n",
    "import torch\n",
    "from torch import nn\n",
    "from torch.utils.data import DataLoader, random_split\n",
    "from torchvision.datasets import SEMEION\n",
    "from torchvision.transforms import transforms\n",
    "\n",
    "\n",
    "def train_model(model: nn.Module, optimizer, crit, data_loader: DataLoader, device: str = \"cuda:0\") -> List[float]:\n",
    "    losses = []\n",
    "    if not torch.cuda.is_available():\n",
    "        device = \"cpu\"\n",
    "    model.to(device)\n",
    "    for i, (x, y) in enumerate(data_loader):\n",
    "        x = x.to(device)\n",
    "        y = y.to(device)\n",
    "        optimizer.zero_grad()\n",
    "        y_hat = model(x)\n",
    "        y_hat = y_hat.squeeze()\n",
    "        loss = crit(y_hat, y)\n",
    "        losses.append(loss.item())\n",
    "        loss.backward()\n",
    "        optimizer.step()\n",
    "    return losses\n",
    "\n",
    "\n",
    "def val_model(model: nn.Module, data_loader: DataLoader, device: str = \"cuda:0\") -> float:\n",
    "    if not torch.cuda.is_available():\n",
    "        device = \"cpu\"\n",
    "    with torch.no_grad():\n",
    "        total = 0\n",
    "        correct = 0\n",
    "        model.to(device)\n",
    "        for x, y in data_loader:\n",
    "            x = x.to(device)\n",
    "            y = y.to(device)\n",
    "\n",
    "            y_hat = model(x)\n",
    "            y_hat = y_hat.squeeze()\n",
    "            y_hat = y_hat.softmax(dim=1)\n",
    "            probs, idxes = y_hat.max(dim=1)\n",
    "            total += y.size(0)\n",
    "            correct += (idxes == y).sum().item()\n",
    "    return correct / total\n",
    "\n",
    "\n",
    "def get_semeion_data(root: str = \"./data\", image_size: int = 28, batch_size: int = 32, channel: int = 1,\n",
    "                     train_percent: float = 0.8) -> Tuple[\n",
    "    DataLoader, DataLoader]:\n",
    "    transform = transforms.Compose([\n",
    "        transforms.ToTensor(),\n",
    "        transforms.Resize((image_size, image_size)),\n",
    "        transforms.RandomCrop(image_size, padding=2),\n",
    "        # 构造一个通道的数据\n",
    "        transforms.Lambda(lambda x: x.repeat(channel, 1, 1))\n",
    "    ])\n",
    "    data = SEMEION(root=root, download=False, transform=transform)\n",
    "\n",
    "    # 构建dataset 和 dataloader\n",
    "    train_size = int(len(data) * train_percent)\n",
    "    test_size = len(data) - train_size\n",
    "    train_data, test_data = random_split(data, [train_size, test_size])\n",
    "    train_loader = DataLoader(train_data, batch_size=batch_size, shuffle=True)\n",
    "    test_loader = DataLoader(test_data, batch_size=batch_size, shuffle=True)\n",
    "    return train_loader, test_loader\n",
    "\n",
    "\n",
    "def enhance_data(data: SEMEION, random_times: int = 5, image_size: int = 28, batch_size: int = 32,\n",
    "                 train_percent: float = 0.8) -> [DataLoader,\n",
    "                                                 DataLoader]:\n",
    "    crop_transform = transforms.Compose([\n",
    "        transforms.ToTensor(),\n",
    "        transforms.Resize((image_size, image_size)),\n",
    "        transforms.RandomCrop(image_size, padding=2),\n",
    "    ])\n",
    "\n",
    "    x = []\n",
    "    y = []\n",
    "    for image, label in data:\n",
    "        for i in range(random_times):\n",
    "            x.append(crop_transform(image))\n",
    "            y.append(label)\n",
    "    x = torch.stack(x)\n",
    "    y = torch.tensor(y)\n",
    "    data = torch.utils.data.TensorDataset(x, y)\n",
    "    train_size = int(len(data) * train_percent)\n",
    "    test_size = len(data) - train_size\n",
    "    train_data, test_data = random_split(data, [train_size, test_size])\n",
    "    train_loader = DataLoader(train_data, batch_size=batch_size, shuffle=True)\n",
    "    test_loader = DataLoader(test_data, batch_size=batch_size, shuffle=True)\n",
    "    return train_loader, test_loader\n"
   ]
  },
  {
   "cell_type": "markdown",
   "metadata": {
    "pycharm": {
     "name": "#%% md\n"
    }
   },
   "source": [
    "$$LeNet$$"
   ]
  },
  {
   "cell_type": "code",
   "execution_count": 100,
   "metadata": {
    "pycharm": {
     "name": "#%%\n"
    }
   },
   "outputs": [],
   "source": [
    "class CNNTorch(nn.Module):\n",
    "    def __init__(self, num_classes=10):\n",
    "        super(CNNTorch, self).__init__()\n",
    "        self.conv1 = nn.Conv2d(1, 6, 5)\n",
    "        self.conv2 = nn.Conv2d(6, 16, 5)\n",
    "        self.pool = nn.MaxPool2d(2, 2)\n",
    "\n",
    "        self.fc1 = nn.Linear(16 * 4 * 4, 120)\n",
    "        self.fc2 = nn.Linear(120, 84)\n",
    "        self.fc3 = nn.Linear(84, num_classes)\n",
    "\n",
    "    def forward(self, x):\n",
    "        batch_size = x.size(0)\n",
    "        x = self.pool(F.relu(self.conv1(x)))  # 6 * 12 * 12\n",
    "        x = self.pool(F.relu(self.conv2(x)))  # 16 * 4 * 4\n",
    "        x = x.view(batch_size, -1, 16 * 4 * 4)  #\n",
    "        x = F.relu(self.fc1(x))  # 120\n",
    "        x = F.relu(self.fc2(x))  # 84\n",
    "        x = self.fc3(x)  # 10\n",
    "        return x"
   ]
  },
  {
   "cell_type": "code",
   "execution_count": null,
   "metadata": {
    "pycharm": {
     "name": "#%%\n"
    }
   },
   "outputs": [
    {
     "name": "stderr",
     "output_type": "stream",
     "text": [
      " 95%|████████████████████████████████████████████████████████████████████████████████████████████████████▋     | 950/1000 [04:31<00:15,  3.30it/s]"
     ]
    }
   ],
   "source": [
    "epoch_losses, train_scores, test_scores = [], [], []\n",
    "num_epoch = 1000\n",
    "\n",
    "model = CNNTorch(num_classes=10)\n",
    "optimizer = optim.Adam(model.parameters(), lr=0.01)\n",
    "criterion = nn.CrossEntropyLoss()\n",
    "data = SEMEION(root='./data', download=False)\n",
    "train_loader,test_loader = enhance_data(data,batch_size=1024,image_size=28,random_times=10)\n",
    "for epoch in tqdm(range(num_epoch)):\n",
    "    epoch_loss = train_model(model, optimizer, criterion, train_loader)\n",
    "    epoch_losses.append(np.mean(epoch_loss))\n",
    "    # 训练集测试精度\n",
    "    train_score = val_model(model, train_loader)\n",
    "    train_scores.append(train_score)\n",
    "    # 验证集测试精度\n",
    "    test_score = val_model(model, test_loader)\n",
    "    test_scores.append(test_score)"
   ]
  },
  {
   "cell_type": "markdown",
   "metadata": {
    "pycharm": {
     "name": "#%% md\n"
    }
   },
   "source": [
    "$保存数据$"
   ]
  },
  {
   "cell_type": "code",
   "execution_count": null,
   "metadata": {
    "pycharm": {
     "name": "#%%\n"
    }
   },
   "outputs": [],
   "source": [
    "resultData = pd.DataFrame({'epoch_loss': epoch_losses, 'train_score': train_scores, 'test_score': test_scores})\n",
    "resultData.to_csv(f'./results/{type(model).__name__}-result.csv', index=False)"
   ]
  },
  {
   "cell_type": "markdown",
   "metadata": {
    "pycharm": {
     "name": "#%% md\n"
    }
   },
   "source": [
    "$绘制图像$"
   ]
  },
  {
   "cell_type": "code",
   "execution_count": null,
   "metadata": {
    "pycharm": {
     "name": "#%%\n"
    }
   },
   "outputs": [],
   "source": [
    "# 训练损失\n",
    "plt.plot(epoch_losses)\n",
    "plt.title('epoch loss')\n",
    "plt.legend(['train epoch loss'])\n",
    "plt.savefig(f'./results/{type(model).__name__}-epoch_loss.png')\n",
    "plt.show()"
   ]
  },
  {
   "cell_type": "code",
   "execution_count": null,
   "metadata": {
    "pycharm": {
     "name": "#%%\n"
    }
   },
   "outputs": [],
   "source": [
    "# 训练精度\n",
    "plt.plot(train_scores, label='train score')\n",
    "plt.plot(test_scores, label='test score')\n",
    "plt.title('epoch score')\n",
    "plt.legend()\n",
    "plt.savefig(f'./results/{type(model).__name__}-epoch_score.png')\n",
    "plt.show()"
   ]
  },
  {
   "cell_type": "code",
   "execution_count": 7,
   "metadata": {
    "pycharm": {
     "name": "#%%\n"
    }
   },
   "outputs": [],
   "source": []
  },
  {
   "cell_type": "code",
   "execution_count": 7,
   "metadata": {
    "pycharm": {
     "name": "#%%\n"
    }
   },
   "outputs": [],
   "source": []
  }
 ],
 "metadata": {
  "kernelspec": {
   "display_name": "Python 3 (ipykernel)",
   "language": "python",
   "name": "python3"
  },
  "language_info": {
   "codemirror_mode": {
    "name": "ipython",
    "version": 3
   },
   "file_extension": ".py",
   "mimetype": "text/x-python",
   "name": "python",
   "nbconvert_exporter": "python",
   "pygments_lexer": "ipython3",
   "version": "3.9.16"
  }
 },
 "nbformat": 4,
 "nbformat_minor": 1
}